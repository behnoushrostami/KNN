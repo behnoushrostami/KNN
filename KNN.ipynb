{
  "nbformat": 4,
  "nbformat_minor": 0,
  "metadata": {
    "colab": {
      "provenance": []
    },
    "kernelspec": {
      "name": "python3",
      "display_name": "Python 3"
    }
  },
  "cells": [
    {
      "cell_type": "code",
      "metadata": {
        "id": "L2ETSymKfDcE"
      },
      "source": [
        "#Behnoush Rostami\n",
        "import numpy as np\n",
        "\n",
        "def get_distances(x_train, x_test, metric):\n",
        "    \"\"\"\n",
        "    A function that computes the pairwise distance between all points in x_train and x_test given a distance metric.\n",
        "    :param x_train: training data set (n x d)\n",
        "    :param x_test: test data set (m x d)\n",
        "    :param metric:\n",
        "        \"euclidean\": euclidean distance metric (L2 norm)\n",
        "    :return distances: matrix of pairwise distances (m x n)\n",
        "    \"\"\"\n",
        "    dispatch = {\n",
        "        \"euclidean\": __euclidean\n",
        "    }\n",
        "    function = dispatch.get(metric, lambda u, v: print(\"Invalid metric\"))\n",
        "    return function(x_train, x_test)\n",
        "\n",
        "def __euclidean(x_train, x_test):\n",
        "    n = x_train.shape[0]\n",
        "    m = x_test.shape[0]\n",
        "    distances = np.zeros((m, n))\n",
        "    for i in range(0, m):\n",
        "        for j in range(0, n):\n",
        "            distances[i, j] = np.linalg.norm(x_train[j, :] - x_test[i, :])\n",
        "    return distances\n",
        "\n",
        "import scipy.io as sio\n",
        "import matplotlib.pyplot as plt\n",
        "from numpy.linalg import inv\n",
        "import pandas as pd\n",
        "\n",
        "import matplotlib.pyplot as plt\n",
        "########################################################################\n",
        "# Data loading\n",
        "########################################################################\n",
        "np.random.seed(5)  # seed the random number generator\n",
        "bodyfat = sio.loadmat('bodyfat_data.mat')\n",
        "x = bodyfat['X']\n",
        "y = bodyfat['y']\n",
        "\n",
        "# split into train and test with seeded randomization\n",
        "train_idx = np.random.choice(np.arange(x.shape[0]), 150, replace=False)\n",
        "test_idx = list(set(np.arange(x.shape[0])) - set(train_idx))\n",
        "x_train = x[train_idx, :]\n",
        "y_train = y[train_idx]\n",
        "x_test = x[test_idx, :]\n",
        "y_test = y[test_idx]\n",
        "\n",
        "\n",
        "def knn_predict(X_train, X_test, y_train, y_test, k):\n",
        "    distance = __euclidean(X_train, X_test)\n",
        "    neighbor_distances_and_indices = []\n",
        "    neighbor_distances=[]\n",
        "    for index, test_point in enumerate(X_test): \n",
        "        for index1, train_point in enumerate(X_train):\n",
        "            neighbor_distances_and_indices.append((distance[index,index1],np.float(y_train[index1])))\n",
        "\n",
        "    neh=[]\n",
        "    n=0\n",
        "    for i in range(len(X_test)):\n",
        "      neighbo=sorted(neighbor_distances_and_indices[n:n+len(X_train)])[:k]\n",
        "      neh.append(neighbo)\n",
        "      n+=len(X_train)\n",
        "    lable=np.zeros((len(X_test),1))\n",
        "    n=0\n",
        "    for n in range(len(X_test)):\n",
        "      d=np.array(neh[n])\n",
        "      mean=0\n",
        "      for i in range(k):\n",
        "        mean+=d[i,1]\n",
        "      lable[n,0]=mean/k\n",
        "    \"\"\" \n",
        "    n=0\n",
        "    for n in range(len(X_test)):\n",
        "      d=np.array(neh[n])\n",
        "      mean=0\n",
        "      for i in range(k):\n",
        "        mean+=d[i,1]\n",
        "      if mean >= k/2:\n",
        "        lable[n,0]=1\n",
        "      else:\n",
        "        lable[n,0]=0\n",
        "    \"\"\"\n",
        "    return neighbor_distances_and_indices,neh,lable\n",
        "def getAccuracyNumeric(actual,predicted):\n",
        "    error=0\n",
        "    for i in range(len(predicted)):\n",
        "        error+=pow((actual[i]-predicted[i]),2)\n",
        "    error=error/len(predicted)-1\n",
        "    return 100-error"
      ],
      "execution_count": null,
      "outputs": []
    },
    {
      "cell_type": "code",
      "metadata": {
        "colab": {
          "base_uri": "https://localhost:8080/",
          "height": 264
        },
        "id": "9Lh8JJ5UfHP9",
        "outputId": "f1a2ded2-b4ae-48a0-a1ab-6719d3d85db6"
      },
      "source": [
        "a,b,c=knn_predict(x_train, x_test, y_train, y_test, 12)\n",
        "plt.scatter(x_train[:,0],y_train, color='b')\n",
        "plt.scatter(x_test[:,0],c, color='r')\n",
        "plt.figure(1)\n",
        "plt.show()"
      ],
      "execution_count": null,
      "outputs": [
        {
          "output_type": "display_data",
          "data": {
            "image/png": "[encoded data removed]",
            "text/plain": [
              "<Figure size 432x288 with 1 Axes>"
            ]
          },
          "metadata": {
            "tags": [],
            "needs_background": "light"
          }
        }
      ]
    },
    {
      "cell_type": "code",
      "metadata": {
        "colab": {
          "base_uri": "https://localhost:8080/"
        },
        "id": "htfO2OssfJzc",
        "outputId": "34177f60-8c22-4111-8d0a-6edaa19db3f4"
      },
      "source": [
        "ac=getAccuracyNumeric(y_test,c)\n",
        "ac"
      ],
      "execution_count": null,
      "outputs": [
        {
          "output_type": "execute_result",
          "data": {
            "text/plain": [
              "array([78.20312854])"
            ]
          },
          "metadata": {
            "tags": []
          },
          "execution_count": 3
        }
      ]
    }
  ]
}